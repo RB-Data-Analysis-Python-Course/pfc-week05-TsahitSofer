{
 "cells": [
  {
   "cell_type": "markdown",
   "metadata": {},
   "source": [
    "<img src=\"images/logo.jpg\" style=\"display: block; margin-left: auto; margin-right: auto;\" alt=\"לוגו של מיזם לימוד הפייתון. נחש מצויר בצבעי צהוב וכחול, הנע בין האותיות של שם הקורס: לומדים פייתון. הסלוגן המופיע מעל לשם הקורס הוא מיזם חינמי ללימוד תכנות בעברית.\">"
   ]
  },
  {
   "cell_type": "markdown",
   "metadata": {},
   "source": [
    "# <p style=\"text-align:right;direction:rtl;\"> תרגילים </p> "
   ]
  },
  {
   "cell_type": "markdown",
   "metadata": {},
   "source": [
    "## <span style=\"text-align: right; direction: rtl; float: right; clear: both;\">הקדמה</span>"
   ]
  },
  {
   "cell_type": "markdown",
   "metadata": {},
   "source": [
    "<p style=\"text-align: right; direction: rtl; float: right; clear: both;\">\n",
    "    התרגול השבוע כרוך בהשקעת מאמץ ניכר, ומטרתו לחזור ולחזק את היסודות שנלמדו בשבועות קודמים.<br>\n",
    "    השבוע ניצב בפניכם אתגר חדש: חזקו את יכולות החיפוש שלכם באינטרנט ובתיעוד של פייתון, ונסו למצוא מודולים שיסייעו לכם בפתרון הבעיות.<br>\n",
    "    זוהי יכולת חשובה מאוד עבור מתכנתים, וזהו בהחלט חלק נכבד מהאתגר בתרגילים שמופיעים לפניכם במחברת הזו.\n",
    "</p>"
   ]
  },
  {
   "cell_type": "markdown",
   "metadata": {},
   "source": [
    "## <span style=\"text-align: right; direction: rtl; float: right; clear: both;\">מלחמה וזהו?</span>"
   ]
  },
  {
   "cell_type": "markdown",
   "metadata": {},
   "source": [
    "<p style=\"text-align: right; direction: rtl; float: right; clear: both;\">\n",
    "    פתרו את התרגיל \"מלחמה וזהו\" משבוע 4, הפעם עם הידע החדש שרכשתם.\n",
    "</p>"
   ]
  },
  {
   "cell_type": "markdown",
   "metadata": {},
   "source": [
    "## <span style=\"text-align: right; direction: rtl; float: right; clear: both;\">כלים שלובים</span>"
   ]
  },
  {
   "cell_type": "markdown",
   "metadata": {},
   "source": [
    "<p style=\"text-align: right; direction: rtl; float: right; clear: both;\">\n",
    "    כתבו פונקציה בשם <code>interleave</code> שמקבלת פרמטר iterable אחד או יותר, ומחזירה רשימה של האיברים שזורים זה בזה.\n",
    "</p>"
   ]
  },
  {
   "cell_type": "markdown",
   "metadata": {},
   "source": [
    "<p style=\"text-align: right; direction: rtl; float: right; clear: both;\">\n",
    "לדוגמה, עבור הקריאה <code dir=\"ltr\" style=\"direction: ltr; text-align: left;\">interleave('abc', [1, 2, 3], ('!', '@', '#'))</code> יוחזר הערך: <samp dir=\"ltr\" style=\"direction: ltr; text-align: left;\">['a', 1, '!', 'b', 2, '@', 'c', 3, '#']</samp>.\n",
    "</p>"
   ]
  },
  {
   "cell_type": "markdown",
   "metadata": {},
   "source": [
    "<p style=\"text-align: right; direction: rtl; float: right; clear: both;\">\n",
    "    ממשו גרסה של generator ל־interleave.\n",
    "</p>"
   ]
  },
  {
   "cell_type": "markdown",
   "metadata": {},
   "source": [
    "## <span style=\"text-align: right; direction: rtl; float: right; clear: both;\">שובו של קשטן</span>"
   ]
  },
  {
   "cell_type": "markdown",
   "metadata": {},
   "source": [
    "<p style=\"text-align: right; direction: rtl; float: right; clear: both;\">\n",
    "    בחנות של אדון קשטן ישנו מילון המכיל את כל המוצרים בחנות, ואת המלאי של כל מוצר.<br>\n",
    "    רשמו פונקציה שמקבלת את המוצרים שהתקבלו במשלוח האחרון, ומעדכנת את המלאי של אדון קשטן בהתאם לכך.\n",
    "</p>"
   ]
  },
  {
   "cell_type": "markdown",
   "metadata": {},
   "source": [
    "<p style=\"text-align: right; direction: rtl; float: right; clear: both;\">\n",
    "לדוגמה:\n",
    "</p>"
   ]
  },
  {
   "cell_type": "markdown",
   "metadata": {},
   "source": [
    "<ul style=\"text-align: right; direction: rtl; float: right; clear: both;\">\n",
    "    <li>עבור הקריאה <code dir=\"ltr\" style=\"direction: ltr; text-align: left;\">add_inventory({'cheese': 2, 'milk': 1}, cheese=3, chocolate=5)</code><br>\n",
    "        יוחזר המלאי: <samp dir=\"ltr\" style=\"direction: ltr; text-align: left;\">{'cheese': 5, 'chocolate': 5, 'milk': 1}</samp>\n",
    "    </li>\n",
    "    <li>עבור הקריאה <code dir=\"ltr\" style=\"direction: ltr; text-align: left;\">add_inventory({'refrigerator': 7, 'goat': 1}, honey=2)</code><br>\n",
    "    יוחזר המלאי: <samp dir=\"ltr\" style=\"direction: ltr; text-align: left;\">{'honey': 2, 'refrigerator': 7, 'goat': 1}</samp>\n",
    "    </li>\n",
    "</ul>"
   ]
  },
  {
   "cell_type": "code",
   "execution_count": 53,
   "metadata": {},
   "outputs": [],
   "source": [
    "def add_inventory(delivery , **inventory):\n",
    "    final = {**delivery, **inventory}\n",
    "    for key, value in final.items():\n",
    "        if key in delivery and key in inventory:\n",
    "            final[key] = value + delivery[key] #final is taking fo the common key the value of the secound dictionary \n",
    "    return final"
   ]
  },
  {
   "cell_type": "code",
   "execution_count": 54,
   "metadata": {},
   "outputs": [
    {
     "data": {
      "text/plain": [
       "{'cheese': 5, 'milk': 1, 'chocolate': 5}"
      ]
     },
     "execution_count": 54,
     "metadata": {},
     "output_type": "execute_result"
    }
   ],
   "source": [
    "add_inventory({'cheese': 2, 'milk': 1}, cheese=3, chocolate=5)"
   ]
  },
  {
   "cell_type": "markdown",
   "metadata": {},
   "source": [
    "## <span style=\"text-align: right; direction: rtl; float: right; clear: both;\">הארי רציונלי אבל לא נורא</span>"
   ]
  },
  {
   "cell_type": "markdown",
   "metadata": {},
   "source": [
    "<p style=\"text-align: right; direction: rtl; float: right; clear: both;\">\n",
    "    הספרן שהיה בדרכו להביא לי את העותק הנחשק של \"<a href=\"https://rationality.co.il/\">הארי פוטר והשיטה הרציונלית</a>\" מעד.<br>\n",
    "    הספרים התעופפו ופרקי הספרים התפזרו לכל עבר.<br>\n",
    "    בתיקייה resources מצורף קובץ מכווץ ובו כל פרקי הסיפור, אך למרבה הצער שם הקבצים אינו תואם לתוכן שלהם.<br>\n",
    "    שנו את שמו של כל קובץ כך ששמו החדש יהיה מספר תלתַ־ספרתי שמתאר את מספר הפרק, ואחריו את שם הפרק.<br>\n",
    "    לדוגמה: עבור הפרק הראשון, שם הקובץ צריך להיות <samp dir=\"ltr\" style=\"direction: ltr; font-style: italic;\">001 A Day of Very Low Probability</samp>.<br>\n",
    "    במהלך התרגיל ייתכן שתצטרכו לשלב עבודה עם כמה ספריות, ובהן כאלו שלא למדנו.\n",
    "</p>"
   ]
  },
  {
   "cell_type": "markdown",
   "metadata": {},
   "source": [
    "<ul style=\"text-align: right; direction: rtl; float: right; clear: both;\">\n",
    "    <li>פתחו את קובץ ה־zip ידנית לפני תחילת העבודה, וחלצו ממנו את כל הפרקים של הספר.</li>\n",
    "    <li>כדי לדמות תרגיל מהעולם האמיתי, הושתלו כמה בעיות שבהן תתקלו לאחר שתריצו את התוכנה שלכם. פתרו אותן בעזרת תכנות.</li>\n",
    "</ul>"
   ]
  },
  {
   "cell_type": "markdown",
   "metadata": {},
   "source": [
    "<p style=\"text-align: right; direction: rtl; float: right; clear: both;\">\n",
    "    טיפ: גבו את הקבצים לפני שתתחילו לעבוד עליהם.<br>\n",
    "    רמז: <span style=\"background: black;\">אפשר לפתוח קובצי html ידנית, כקובצי טקסט.</span><br>\n",
    "    רמז 2: <span style=\"background: black;\">כיצד משנים שמות של קבצים באמצעות פייתון?</span>\n",
    "</p>"
   ]
  },
  {
   "cell_type": "markdown",
   "metadata": {},
   "source": [
    "## <span style=\"text-align: right; direction: rtl; float: right; clear: both;\">פרדוקס יום ההולדת</span>"
   ]
  },
  {
   "cell_type": "markdown",
   "metadata": {},
   "source": [
    "<p style=\"text-align: right; direction: rtl; float: right; clear: both;\">\n",
    "    מוצגת להלן אחת מהגרסאות של <a href=\"https://he.wikipedia.org/wiki/%D7%A4%D7%A8%D7%93%D7%95%D7%A7%D7%A1_%D7%99%D7%95%D7%9D_%D7%94%D7%94%D7%95%D7%9C%D7%93%D7%AA\">פרדוקס יום ההולדת</a>:\n",
    "</p>"
   ]
  },
  {
   "cell_type": "markdown",
   "metadata": {},
   "source": [
    "<blockquote style=\"border-left:none !important; position: relative; padding-left: 0.5em; padding: 1.5em; border-right: 3px solid #a93226; background-color: #fbe7e6; direction: rtl; text-align: right; clear: both;\">\n",
    "    מה הסיכוי שבכיתה שבה 23 תלמידים (חחחחח) יציינו שני תלמידים יום הולדת באותו תאריך?<br>\n",
    "</blockquote>"
   ]
  },
  {
   "cell_type": "markdown",
   "metadata": {},
   "source": [
    "<p style=\"text-align: right; direction: rtl; float: right; clear: both;\">\n",
    "הנחות המוצא שלנו בפתירת הבעיה הן כדלהלן:\n",
    "</p>"
   ]
  },
  {
   "cell_type": "markdown",
   "metadata": {},
   "source": [
    "<ul style=\"text-align: right; direction: rtl; float: right; clear: both;\">\n",
    "    <li>הילודה מפוזרת באופן שווה לאורך השנה (<a href=\"https://en.wikipedia.org/wiki/Birthday#Frequency\">היא לא</a>, אבל נדמיין שכן).</li>\n",
    "    <li>כשאנחנו אומרים \"תאריך\" אנחנו מתכוונים לצירוף של החודש והיום, ללא התייחסות לשנה.<br>\n",
    "        מי שנולד ב־1 במאי 1992 הוא בעל תאריך יום הולדת זהה למי שנולד ב־1 במאי 1995.</li>\n",
    "</ul>"
   ]
  },
  {
   "cell_type": "markdown",
   "metadata": {},
   "source": [
    "<p style=\"text-align: right; direction: rtl; float: right; clear: both;\">\n",
    "    הפתרון של ה\"פרדוקס\" מפתיע את רוב האנשים ששומעים עליו לראשונה.\n",
    "</p>"
   ]
  },
  {
   "cell_type": "markdown",
   "metadata": {},
   "source": [
    "<p style=\"text-align: right; direction: rtl; float: right; clear: both;\">\n",
    "    כתבו תוכנה שמגרילה תאריכי יום הולדת עבור 10,000 כיתות, שבכל אחת מהן לומדים 23 תלמידים.<br>\n",
    "    מהו אחוז הכיתות שבהן ציינו 2 ימי הולדת באותו תאריך? השוו עם הפתרון המוצג בוויקיפדיה.<br>\n",
    "    דאגו שהפתרון שלכם יתחשב בכך שקיימות שנים מעוברות.<br>\n",
    "</p>"
   ]
  },
  {
   "cell_type": "markdown",
   "metadata": {},
   "source": [
    "<p style=\"text-align: right; direction: rtl; float: right; clear: both;\">\n",
    "    השתמשו בתוכנה שכתבתם כדי לחשב את הסיכויים עבור כיתות שבהן תלמיד אחד, ועד כיתות ישראליות ממוצעות שבהן 366 תלמידים.\n",
    "</p>"
   ]
  },
  {
   "cell_type": "code",
   "execution_count": 165,
   "metadata": {},
   "outputs": [],
   "source": [
    "from datetime import date, timedelta\n",
    "from random import choices\n",
    "\n",
    "def birthday_date():\n",
    "    student_in_class = 23\n",
    "    start_date, end_date = date(2000, 1, 1), date(2022, 1, 1)\n",
    "    K = student_in_class\n",
    "    all_dates = [start_date]\n",
    "    while start_date != end_date:\n",
    "        start_date += timedelta(days=1)\n",
    "        all_dates.append(start_date)\n",
    "    random_bd = choices(all_dates, k=K)\n",
    "    return random_bd \n"
   ]
  },
  {
   "cell_type": "code",
   "execution_count": 166,
   "metadata": {
    "scrolled": true
   },
   "outputs": [
    {
     "data": {
      "text/plain": [
       "[datetime.date(2001, 10, 3),\n",
       " datetime.date(2021, 4, 29),\n",
       " datetime.date(2018, 12, 28),\n",
       " datetime.date(2021, 12, 16),\n",
       " datetime.date(2021, 11, 26),\n",
       " datetime.date(2003, 1, 30),\n",
       " datetime.date(2019, 1, 13),\n",
       " datetime.date(2015, 1, 19),\n",
       " datetime.date(2018, 7, 22),\n",
       " datetime.date(2005, 9, 24),\n",
       " datetime.date(2014, 10, 24),\n",
       " datetime.date(2009, 4, 13),\n",
       " datetime.date(2017, 10, 18),\n",
       " datetime.date(2000, 7, 15),\n",
       " datetime.date(2020, 9, 9),\n",
       " datetime.date(2001, 6, 15),\n",
       " datetime.date(2006, 9, 7),\n",
       " datetime.date(2007, 8, 14),\n",
       " datetime.date(2001, 9, 21),\n",
       " datetime.date(2005, 12, 9),\n",
       " datetime.date(2013, 2, 18),\n",
       " datetime.date(2019, 9, 25),\n",
       " datetime.date(2016, 9, 25)]"
      ]
     },
     "execution_count": 166,
     "metadata": {},
     "output_type": "execute_result"
    }
   ],
   "source": [
    "birthday_date()"
   ]
  },
  {
   "cell_type": "code",
   "execution_count": 167,
   "metadata": {},
   "outputs": [],
   "source": [
    "def num_of_classes(classes):\n",
    "    i = 1\n",
    "    l = []\n",
    "    while i <= classes:\n",
    "        dates = birthday_date()\n",
    "        l.append(dates)\n",
    "        i+=1\n",
    "    return l "
   ]
  },
  {
   "cell_type": "code",
   "execution_count": 168,
   "metadata": {},
   "outputs": [
    {
     "data": {
      "text/plain": [
       "[[datetime.date(2006, 12, 19),\n",
       "  datetime.date(2009, 12, 10),\n",
       "  datetime.date(2014, 5, 30),\n",
       "  datetime.date(2000, 1, 12),\n",
       "  datetime.date(2006, 9, 22),\n",
       "  datetime.date(2007, 4, 3),\n",
       "  datetime.date(2016, 7, 6),\n",
       "  datetime.date(2010, 8, 6),\n",
       "  datetime.date(2015, 12, 31),\n",
       "  datetime.date(2012, 3, 16),\n",
       "  datetime.date(2000, 12, 3),\n",
       "  datetime.date(2007, 4, 1),\n",
       "  datetime.date(2006, 7, 16),\n",
       "  datetime.date(2013, 12, 5),\n",
       "  datetime.date(2015, 11, 9),\n",
       "  datetime.date(2002, 3, 22),\n",
       "  datetime.date(2016, 7, 5),\n",
       "  datetime.date(2007, 4, 2),\n",
       "  datetime.date(2013, 3, 1),\n",
       "  datetime.date(2014, 7, 15),\n",
       "  datetime.date(2013, 11, 18),\n",
       "  datetime.date(2003, 4, 22),\n",
       "  datetime.date(2002, 3, 7)],\n",
       " [datetime.date(2016, 9, 9),\n",
       "  datetime.date(2011, 2, 3),\n",
       "  datetime.date(2007, 6, 6),\n",
       "  datetime.date(2002, 8, 20),\n",
       "  datetime.date(2013, 12, 14),\n",
       "  datetime.date(2016, 1, 10),\n",
       "  datetime.date(2014, 10, 2),\n",
       "  datetime.date(2011, 7, 17),\n",
       "  datetime.date(2009, 9, 27),\n",
       "  datetime.date(2018, 7, 28),\n",
       "  datetime.date(2002, 10, 3),\n",
       "  datetime.date(2019, 7, 7),\n",
       "  datetime.date(2010, 6, 3),\n",
       "  datetime.date(2020, 4, 26),\n",
       "  datetime.date(2004, 2, 25),\n",
       "  datetime.date(2010, 2, 12),\n",
       "  datetime.date(2009, 8, 26),\n",
       "  datetime.date(2010, 6, 7),\n",
       "  datetime.date(2010, 2, 4),\n",
       "  datetime.date(2019, 7, 9),\n",
       "  datetime.date(2000, 11, 29),\n",
       "  datetime.date(2017, 3, 14),\n",
       "  datetime.date(2000, 12, 24)]]"
      ]
     },
     "execution_count": 168,
     "metadata": {},
     "output_type": "execute_result"
    }
   ],
   "source": [
    "num_of_classes(2)"
   ]
  },
  {
   "cell_type": "code",
   "execution_count": 217,
   "metadata": {},
   "outputs": [],
   "source": [
    "import datetime\n",
    "\n",
    "def put_in_tuple(l):\n",
    "    list_bd = []\n",
    "    help_list = []\n",
    "    counter = 0\n",
    "    counter_dup = 0\n",
    "    for a_class in l:\n",
    "        for datem in a_class:\n",
    "            day = datem.day\n",
    "            month = datem.month\n",
    "            help_list.append(day)\n",
    "            help_list.append(month)\n",
    "            if tuple(help_list) in list_bd:\n",
    "                counter+=1\n",
    "            else:\n",
    "                list_bd.append(tuple(help_list))\n",
    "            help_list.pop()\n",
    "            help_list.pop()\n",
    "        if counter > 1:\n",
    "            counter_dup+=1\n",
    "        counter = 1\n",
    "        list_bd = []\n",
    "    print(counter_dup)"
   ]
  },
  {
   "cell_type": "code",
   "execution_count": 218,
   "metadata": {
    "scrolled": true
   },
   "outputs": [
    {
     "name": "stdout",
     "output_type": "stream",
     "text": [
      "5039\n"
     ]
    }
   ],
   "source": [
    "put_in_tuple(num_of_classes(10000))"
   ]
  }
 ],
 "metadata": {
  "kernelspec": {
   "display_name": "Python 3",
   "language": "python",
   "name": "python3"
  },
  "language_info": {
   "codemirror_mode": {
    "name": "ipython",
    "version": 3
   },
   "file_extension": ".py",
   "mimetype": "text/x-python",
   "name": "python",
   "nbconvert_exporter": "python",
   "pygments_lexer": "ipython3",
   "version": "3.8.5"
  }
 },
 "nbformat": 4,
 "nbformat_minor": 2
}
